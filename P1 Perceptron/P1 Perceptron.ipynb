{
 "cells": [
  {
   "cell_type": "markdown",
   "metadata": {},
   "source": [
    "# Perceptron class"
   ]
  },
  {
   "cell_type": "code",
   "execution_count": 1,
   "metadata": {},
   "outputs": [],
   "source": [
    "class Perceptron:\n",
    "\n",
    "    def __init__(self, bias, weight):\n",
    "        self.weight = weight\n",
    "        self.bias = bias\n",
    "        \n",
    "    def activate(self, som):\n",
    "            if som + self.bias < 0:\n",
    "                return 0\n",
    "            else:\n",
    "                return 1\n",
    "\n",
    "    def weight_calculation(self, _input):\n",
    "            som = 0\n",
    "            for i in range(len(_input)):\n",
    "                som += _input[i] * self.weight[i]\n",
    "            return self.activate(som)\n",
    "\n",
    "\n",
    "    def __str__(self):\n",
    "        return ('Bias: {}' + ' Weight: {}').format(self.bias, self.weight)"
   ]
  },
  {
   "cell_type": "markdown",
   "metadata": {},
   "source": [
    "# Testing"
   ]
  },
  {
   "cell_type": "markdown",
   "metadata": {},
   "source": [
    "### De inputs\n",
    "Hier worden alle mogelijke combinaties als invoer weergegeven, dit is was overzichtelijker. Deze lijsten worden NIET gebruikt om de code te runnen."
   ]
  },
  {
   "cell_type": "code",
   "execution_count": 2,
   "metadata": {},
   "outputs": [],
   "source": [
    "_input = [\n",
    "    0, 0, \n",
    "    0, 1, \n",
    "    1, 0, \n",
    "    1, 1]\n",
    "\n",
    "not_input = [0,1]\n",
    "\n",
    "input_3 = [0,0,0, \n",
    "      0,0,1, \n",
    "      0,1,0,\n",
    "      1,0,0,\n",
    "      0,1,1,\n",
    "      1,0,1,\n",
    "      1,1,0,\n",
    "      1,1,1]"
   ]
  },
  {
   "cell_type": "markdown",
   "metadata": {},
   "source": [
    "### De poorten\n",
    "Hier worden de verschillende poorten getest."
   ]
  },
  {
   "cell_type": "code",
   "execution_count": 3,
   "metadata": {},
   "outputs": [
    {
     "name": "stdout",
     "output_type": "stream",
     "text": [
      "Bias: 0 Weight: [-1]\n",
      "1\n",
      "0\n"
     ]
    }
   ],
   "source": [
    "INVERT = Perceptron(0, [-1])\n",
    "print(INVERT)\n",
    "print(INVERT.weight_calculation([0]))\n",
    "print(INVERT.weight_calculation([1]))"
   ]
  },
  {
   "cell_type": "code",
   "execution_count": 11,
   "metadata": {},
   "outputs": [
    {
     "name": "stdout",
     "output_type": "stream",
     "text": [
      "Bias: -2 Weight: [1, 1]\n",
      "0\n",
      "0\n",
      "0\n",
      "1\n"
     ]
    }
   ],
   "source": [
    "AND = Perceptron(-2, [1, 1])\n",
    "print(AND)\n",
    "print(AND.weight_calculation([0, 0]))\n",
    "print(AND.weight_calculation([0, 1]))\n",
    "print(AND.weight_calculation([1, 0]))\n",
    "print(AND.weight_calculation([1, 1]))"
   ]
  },
  {
   "cell_type": "code",
   "execution_count": 8,
   "metadata": {},
   "outputs": [
    {
     "name": "stdout",
     "output_type": "stream",
     "text": [
      "Bias: -1 Weight: [2, 2]\n",
      "0\n",
      "1\n",
      "1\n",
      "1\n"
     ]
    }
   ],
   "source": [
    "OR = Perceptron(-1, [2, 2])\n",
    "print(OR)\n",
    "print(OR.weight_calculation([0, 0]))\n",
    "print(OR.weight_calculation([0, 1]))\n",
    "print(OR.weight_calculation([1, 0]))\n",
    "print(OR.weight_calculation([1, 1]))"
   ]
  },
  {
   "cell_type": "code",
   "execution_count": 7,
   "metadata": {
    "scrolled": true
   },
   "outputs": [
    {
     "name": "stdout",
     "output_type": "stream",
     "text": [
      "Bias: 0 Weight: [-1, -1, -1]\n",
      "1\n",
      "0\n",
      "0\n",
      "0\n",
      "0\n",
      "0\n",
      "0\n",
      "0\n"
     ]
    }
   ],
   "source": [
    "NOR = Perceptron(0, [-1, -1, -1])\n",
    "print(NOR)\n",
    "print(NOR.weight_calculation([0,0,0]))\n",
    "print(NOR.weight_calculation([0,0,1]))\n",
    "print(NOR.weight_calculation([0,1,0]))\n",
    "print(NOR.weight_calculation([1,0,0]))\n",
    "print(NOR.weight_calculation([0,1,1]))\n",
    "print(NOR.weight_calculation([1,0,1]))\n",
    "print(NOR.weight_calculation([1,1,0]))\n",
    "print(NOR.weight_calculation([1,1,1]))"
   ]
  },
  {
   "cell_type": "markdown",
   "metadata": {},
   "source": [
    "### Uitgebreider beslissysteem\n",
    "Er wordt ook gevraagd voor een uitgebreider beslissysteem, daarom heb ik hier alle mogelijk 4 lange combinaties van 0 en 1 in een input gezet. Daarna word de input in de perceptron gedaan. "
   ]
  },
  {
   "cell_type": "code",
   "execution_count": 12,
   "metadata": {},
   "outputs": [
    {
     "name": "stdout",
     "output_type": "stream",
     "text": [
      "Bias: 0 Weight: [-1.5, 1, -0.1, 2.1]\n",
      "1\n",
      "1\n",
      "0\n",
      "1\n",
      "1\n",
      "1\n",
      "1\n",
      "1\n",
      "0\n",
      "1\n",
      "0\n",
      "1\n",
      "0\n",
      "1\n",
      "0\n",
      "1\n"
     ]
    }
   ],
   "source": [
    "uitgebreider_beslissysteem = Perceptron(0, [-1.5, 1, -0.1, 2.1])\n",
    "print(uitgebreider_beslissysteem)\n",
    "print(uitgebreider_beslissysteem.weight_calculation([0,0,0,0]))\n",
    "print(uitgebreider_beslissysteem.weight_calculation([0,0,0,1]))\n",
    "print(uitgebreider_beslissysteem.weight_calculation([0,0,1,0]))\n",
    "print(uitgebreider_beslissysteem.weight_calculation([0,0,1,1]))\n",
    "print(uitgebreider_beslissysteem.weight_calculation([0,1,0,0]))\n",
    "print(uitgebreider_beslissysteem.weight_calculation([0,1,0,1]))\n",
    "print(uitgebreider_beslissysteem.weight_calculation([0,1,1,0]))\n",
    "print(uitgebreider_beslissysteem.weight_calculation([0,1,1,1]))\n",
    "print(uitgebreider_beslissysteem.weight_calculation([1,0,0,0]))\n",
    "print(uitgebreider_beslissysteem.weight_calculation([1,0,0,1]))\n",
    "print(uitgebreider_beslissysteem.weight_calculation([1,0,1,0]))\n",
    "print(uitgebreider_beslissysteem.weight_calculation([1,0,1,1]))\n",
    "print(uitgebreider_beslissysteem.weight_calculation([1,1,0,0]))\n",
    "print(uitgebreider_beslissysteem.weight_calculation([1,1,0,1]))\n",
    "print(uitgebreider_beslissysteem.weight_calculation([1,1,1,0]))\n",
    "print(uitgebreider_beslissysteem.weight_calculation([1,1,1,1]))"
   ]
  },
  {
   "cell_type": "markdown",
   "metadata": {},
   "source": [
    "# PerceptronLayer class"
   ]
  },
  {
   "cell_type": "code",
   "execution_count": null,
   "metadata": {},
   "outputs": [],
   "source": [
    "class PerceptronLayer:\n",
    "    \n",
    "    def __init__(self):\n",
    "        self.perceptron = []\n",
    "        \n",
    "    def setter(self, aantal):\n",
    "        self.perceptron.append(aantal)\n",
    "        \n",
    "    def getter(self):\n",
    "        return self.perceptron"
   ]
  },
  {
   "cell_type": "markdown",
   "metadata": {},
   "source": [
    "# PerceptronNetwork\n",
    "Hier heb ik nog wat uitleg over nodig..."
   ]
  },
  {
   "cell_type": "code",
   "execution_count": null,
   "metadata": {},
   "outputs": [],
   "source": [
    "class PerceptronNetwork:\n",
    "    \n",
    "    def __init__(self):\n",
    "        pass\n",
    "        \n",
    "        \n",
    "    def feed_forward():\n",
    "        pass"
   ]
  }
 ],
 "metadata": {
  "kernelspec": {
   "display_name": "Python 3",
   "language": "python",
   "name": "python3"
  },
  "language_info": {
   "codemirror_mode": {
    "name": "ipython",
    "version": 3
   },
   "file_extension": ".py",
   "mimetype": "text/x-python",
   "name": "python",
   "nbconvert_exporter": "python",
   "pygments_lexer": "ipython3",
   "version": "3.8.0"
  }
 },
 "nbformat": 4,
 "nbformat_minor": 4
}
