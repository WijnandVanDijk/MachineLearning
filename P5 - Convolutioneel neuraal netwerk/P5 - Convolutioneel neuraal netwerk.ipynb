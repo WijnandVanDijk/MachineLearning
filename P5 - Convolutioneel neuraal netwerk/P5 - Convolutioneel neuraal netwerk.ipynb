{
 "cells": [
  {
   "cell_type": "markdown",
   "metadata": {},
   "source": [
    "### Imports"
   ]
  },
  {
   "cell_type": "code",
   "execution_count": 1,
   "metadata": {},
   "outputs": [],
   "source": [
    "import random\n",
    "import keras\n",
    "from keras.datasets import cifar10\n",
    "import matplotlib.pyplot as plt\n",
    "from tensorflow.keras.models import Sequential \n",
    "from tensorflow.keras.layers import Dense, Dropout, Activation, Flatten, Conv2D, MaxPooling2D\n",
    "from tensorflow.keras.constraints import MaxNorm\n",
    "from tensorflow.keras.optimizers import Adam\n",
    "from tensorflow.keras import utils"
   ]
  },
  {
   "cell_type": "markdown",
   "metadata": {},
   "source": [
    "### Data understanding\n",
    "Hier wordt de data ingeladen en kijken we even naar wat we precies voor data hebben en welke eigenschappen die data heeft. De data hoeft niet gecleant te worden omdat het al een goede, schone dataset is. bron: https://medium.com/analytics-vidhya/skip-the-data-preprocessing-accessing-12-ready-to-go-datasets-829e53f2d78"
   ]
  },
  {
   "cell_type": "code",
   "execution_count": 2,
   "metadata": {},
   "outputs": [],
   "source": [
    "(train_X,train_Y),(test_X,test_Y)=cifar10.load_data()"
   ]
  },
  {
   "cell_type": "code",
   "execution_count": 3,
   "metadata": {},
   "outputs": [
    {
     "name": "stdout",
     "output_type": "stream",
     "text": [
      "50000\n",
      "50000\n"
     ]
    }
   ],
   "source": [
    "print(len(train_X))\n",
    "print(len(train_Y))"
   ]
  },
  {
   "cell_type": "code",
   "execution_count": 4,
   "metadata": {},
   "outputs": [],
   "source": [
    "train_x=train_X.astype('float32')\n",
    "test_X=test_X.astype('float32')\n",
    " \n",
    "train_X=train_X/255.0\n",
    "test_X=test_X/255.0"
   ]
  },
  {
   "cell_type": "code",
   "execution_count": 5,
   "metadata": {},
   "outputs": [
    {
     "name": "stdout",
     "output_type": "stream",
     "text": [
      "(50000, 32, 32, 3)\n",
      "(10000, 32, 32, 3)\n",
      "(50000, 1)\n",
      "(10000, 1)\n"
     ]
    }
   ],
   "source": [
    "print(train_X.shape)\n",
    "print(test_X.shape)\n",
    "print(train_Y.shape)\n",
    "print(test_Y.shape)"
   ]
  },
  {
   "cell_type": "code",
   "execution_count": 6,
   "metadata": {},
   "outputs": [
    {
     "data": {
      "text/plain": [
       "numpy.ndarray"
      ]
     },
     "execution_count": 6,
     "metadata": {},
     "output_type": "execute_result"
    }
   ],
   "source": [
    "type(train_X)"
   ]
  },
  {
   "cell_type": "code",
   "execution_count": 7,
   "metadata": {},
   "outputs": [
    {
     "data": {
      "text/plain": [
       "<matplotlib.image.AxesImage at 0x2b731075310>"
      ]
     },
     "execution_count": 7,
     "metadata": {},
     "output_type": "execute_result"
    },
    {
     "data": {
      "image/png": "[encoded data removed]",
      "text/plain": [
       "<Figure size 432x288 with 1 Axes>"
      ]
     },
     "metadata": {
      "needs_background": "light"
     },
     "output_type": "display_data"
    }
   ],
   "source": [
    "plt.imshow(train_X[random.randint(0,49999)])"
   ]
  },
  {
   "cell_type": "code",
   "execution_count": 8,
   "metadata": {},
   "outputs": [],
   "source": [
    "train_Y=utils.to_categorical(train_Y)\n",
    "test_Y=utils.to_categorical(test_Y)\n",
    " \n",
    "num_classes=test_Y.shape[1]"
   ]
  },
  {
   "cell_type": "markdown",
   "metadata": {},
   "source": [
    "### Het model & trainen"
   ]
  },
  {
   "cell_type": "code",
   "execution_count": 9,
   "metadata": {},
   "outputs": [],
   "source": [
    "model=Sequential()\n",
    "\n",
    "model.add(Conv2D(32,(3,3),input_shape=(32,32,3),\n",
    "    padding='same',activation='relu',\n",
    "    kernel_constraint=MaxNorm(3)))\n",
    "model.add(Dropout(0.2)) #20%\n",
    "\n",
    "model.add(Conv2D(32,(3,3), activation='relu', padding='same', kernel_constraint=MaxNorm(3)))\n",
    "model.add(MaxPooling2D(pool_size=(2,2)))\n",
    "model.add(Flatten())\n",
    "\n",
    "model.add(Dense(512,activation='relu',kernel_constraint=MaxNorm(3)))\n",
    "\n",
    "model.add(Dropout(0.5))\n",
    "model.add(Dense(num_classes, activation='softmax'))"
   ]
  },
  {
   "cell_type": "code",
   "execution_count": 10,
   "metadata": {},
   "outputs": [],
   "source": [
    "model.compile(loss='categorical_crossentropy',\n",
    "  optimizer='adam',\n",
    "  metrics=['accuracy'])"
   ]
  },
  {
   "cell_type": "code",
   "execution_count": 11,
   "metadata": {},
   "outputs": [
    {
     "name": "stdout",
     "output_type": "stream",
     "text": [
      "Model: \"sequential\"\n",
      "_________________________________________________________________\n",
      "Layer (type)                 Output Shape              Param #   \n",
      "=================================================================\n",
      "conv2d (Conv2D)              (None, 32, 32, 32)        896       \n",
      "_________________________________________________________________\n",
      "dropout (Dropout)            (None, 32, 32, 32)        0         \n",
      "_________________________________________________________________\n",
      "conv2d_1 (Conv2D)            (None, 32, 32, 32)        9248      \n",
      "_________________________________________________________________\n",
      "max_pooling2d (MaxPooling2D) (None, 16, 16, 32)        0         \n",
      "_________________________________________________________________\n",
      "flatten (Flatten)            (None, 8192)              0         \n",
      "_________________________________________________________________\n",
      "dense (Dense)                (None, 512)               4194816   \n",
      "_________________________________________________________________\n",
      "dropout_1 (Dropout)          (None, 512)               0         \n",
      "_________________________________________________________________\n",
      "dense_1 (Dense)              (None, 10)                5130      \n",
      "=================================================================\n",
      "Total params: 4,210,090\n",
      "Trainable params: 4,210,090\n",
      "Non-trainable params: 0\n",
      "_________________________________________________________________\n"
     ]
    }
   ],
   "source": [
    "model.summary()"
   ]
  },
  {
   "cell_type": "code",
   "execution_count": 12,
   "metadata": {},
   "outputs": [
    {
     "name": "stdout",
     "output_type": "stream",
     "text": [
      "Epoch 1/20\n",
      "1563/1563 [==============================] - 88s 56ms/step - loss: 1.7981 - accuracy: 0.3476 - val_loss: 1.1793 - val_accuracy: 0.5867\n",
      "Epoch 2/20\n",
      "1563/1563 [==============================] - 85s 54ms/step - loss: 1.1850 - accuracy: 0.5764 - val_loss: 1.0293 - val_accuracy: 0.6371\n",
      "Epoch 3/20\n",
      "1563/1563 [==============================] - 85s 54ms/step - loss: 1.0329 - accuracy: 0.6322 - val_loss: 0.9827 - val_accuracy: 0.6526\n",
      "Epoch 4/20\n",
      "1563/1563 [==============================] - 87s 56ms/step - loss: 0.9563 - accuracy: 0.6601 - val_loss: 0.9634 - val_accuracy: 0.6584\n",
      "Epoch 5/20\n",
      "1563/1563 [==============================] - 84s 54ms/step - loss: 0.8927 - accuracy: 0.6844 - val_loss: 0.9103 - val_accuracy: 0.6798\n",
      "Epoch 6/20\n",
      "1563/1563 [==============================] - 83s 53ms/step - loss: 0.8441 - accuracy: 0.7036 - val_loss: 0.9009 - val_accuracy: 0.6906\n",
      "Epoch 7/20\n",
      "1563/1563 [==============================] - 84s 54ms/step - loss: 0.8019 - accuracy: 0.7184 - val_loss: 0.8962 - val_accuracy: 0.6893\n",
      "Epoch 8/20\n",
      "1563/1563 [==============================] - 85s 55ms/step - loss: 0.7704 - accuracy: 0.7299 - val_loss: 0.8591 - val_accuracy: 0.7029\n",
      "Epoch 9/20\n",
      "1563/1563 [==============================] - 84s 54ms/step - loss: 0.7252 - accuracy: 0.7437 - val_loss: 0.8677 - val_accuracy: 0.6977\n",
      "Epoch 10/20\n",
      "1563/1563 [==============================] - 85s 54ms/step - loss: 0.7029 - accuracy: 0.7512 - val_loss: 0.8679 - val_accuracy: 0.6983\n",
      "Epoch 11/20\n",
      "1563/1563 [==============================] - 86s 55ms/step - loss: 0.6852 - accuracy: 0.7579 - val_loss: 0.8960 - val_accuracy: 0.6865\n",
      "Epoch 12/20\n",
      "1563/1563 [==============================] - 86s 55ms/step - loss: 0.6641 - accuracy: 0.7675 - val_loss: 0.8404 - val_accuracy: 0.7103\n",
      "Epoch 13/20\n",
      "1563/1563 [==============================] - 84s 54ms/step - loss: 0.6532 - accuracy: 0.7715 - val_loss: 0.8407 - val_accuracy: 0.7100\n",
      "Epoch 14/20\n",
      "1563/1563 [==============================] - 84s 54ms/step - loss: 0.6342 - accuracy: 0.7760 - val_loss: 0.9000 - val_accuracy: 0.6927\n",
      "Epoch 15/20\n",
      "1563/1563 [==============================] - 84s 54ms/step - loss: 0.6274 - accuracy: 0.7794 - val_loss: 0.8990 - val_accuracy: 0.6909\n",
      "Epoch 16/20\n",
      "1563/1563 [==============================] - 86s 55ms/step - loss: 0.6036 - accuracy: 0.7889 - val_loss: 0.8641 - val_accuracy: 0.7075\n",
      "Epoch 17/20\n",
      "1563/1563 [==============================] - 86s 55ms/step - loss: 0.6065 - accuracy: 0.7891 - val_loss: 0.8712 - val_accuracy: 0.6992\n",
      "Epoch 18/20\n",
      "1563/1563 [==============================] - 86s 55ms/step - loss: 0.5933 - accuracy: 0.7901 - val_loss: 0.8678 - val_accuracy: 0.6980\n",
      "Epoch 19/20\n",
      "1563/1563 [==============================] - 86s 55ms/step - loss: 0.5831 - accuracy: 0.7980 - val_loss: 0.8638 - val_accuracy: 0.7002\n",
      "Epoch 20/20\n",
      "1563/1563 [==============================] - 86s 55ms/step - loss: 0.5786 - accuracy: 0.8005 - val_loss: 0.8622 - val_accuracy: 0.7010\n"
     ]
    }
   ],
   "source": [
    "history = model.fit(train_X,train_Y,\n",
    "    validation_data=(test_X,test_Y),\n",
    "    epochs=20,batch_size=32)"
   ]
  },
  {
   "cell_type": "markdown",
   "metadata": {},
   "source": [
    "### De resultaten\n",
    "Hier worden twee grafieken weergegeven met daarin de accuracy en de loss.\n",
    "\n",
    "De accuracy is 80%, dat is niet weinig maar ook niet goed genoeg om 'echt' gebruikt te worden, de loss is ook nog te hoog. Daarom is het niet aanteraden om dit model te gebruiken, door tijds noot heb ik niet de tijd om een beter model te maken of de data beter te maken."
   ]
  },
  {
   "cell_type": "code",
   "execution_count": 13,
   "metadata": {},
   "outputs": [
    {
     "data": {
      "image/png": "[encoded data removed]",
      "text/plain": [
       "<Figure size 432x288 with 1 Axes>"
      ]
     },
     "metadata": {
      "needs_background": "light"
     },
     "output_type": "display_data"
    }
   ],
   "source": [
    "plt.plot(history.history['accuracy'])\n",
    "plt.plot(history.history['val_accuracy'])\n",
    "plt.title('model accuracy')\n",
    "plt.ylabel('accuracy')\n",
    "plt.xlabel('epoch')\n",
    "plt.legend(['train', 'validation'], loc='upper left')\n",
    "plt.show()    "
   ]
  },
  {
   "cell_type": "code",
   "execution_count": 14,
   "metadata": {},
   "outputs": [
    {
     "data": {
      "image/png": "[encoded data removed]",
      "text/plain": [
       "<Figure size 432x288 with 1 Axes>"
      ]
     },
     "metadata": {
      "needs_background": "light"
     },
     "output_type": "display_data"
    }
   ],
   "source": [
    "plt.plot(history.history['loss'])\n",
    "plt.plot(history.history['val_loss'])\n",
    "plt.title('model loss')\n",
    "plt.ylabel('loss')\n",
    "plt.xlabel('epoch')\n",
    "plt.legend(['train', 'validation'], loc='upper left')\n",
    "plt.show()"
   ]
  },
  {
   "cell_type": "markdown",
   "metadata": {},
   "source": [
    "### Overfit?\n",
    "Ja, dit model is overfit omdat het model het slechter doet op de test set dan op de train set."
   ]
  }
 ],
 "metadata": {
  "kernelspec": {
   "display_name": "Python 3",
   "language": "python",
   "name": "python3"
  },
  "language_info": {
   "codemirror_mode": {
    "name": "ipython",
    "version": 3
   },
   "file_extension": ".py",
   "mimetype": "text/x-python",
   "name": "python",
   "nbconvert_exporter": "python",
   "pygments_lexer": "ipython3",
   "version": "3.8.0"
  }
 },
 "nbformat": 4,
 "nbformat_minor": 4
}
