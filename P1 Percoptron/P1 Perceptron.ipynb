{
 "cells": [
  {
   "cell_type": "code",
   "execution_count": 15,
   "metadata": {},
   "outputs": [],
   "source": [
    "class Perceptron:\n",
    "\n",
    "    def __init__(self, bias, weight):\n",
    "        self.weights = weight\n",
    "        self.bias = bias\n",
    "\n",
    "        def feed_forward(self, _input, weights):\n",
    "            output = []\n",
    "            for i in range(len(_input)):\n",
    "                for x in range(len(_input[i])):\n",
    "                    weighted = 0\n",
    "                    weighted_input = _input[i][x]*self.weight[x]\n",
    "                    weighted += weighted_input\n",
    "                    \n",
    "                output_activation = activate(weighted)\n",
    "                output = output.append(output_activation)\n",
    "                print(output_activation)\n",
    "            return output\n",
    "            \n",
    "\n",
    "        def activate(self, weighted):\n",
    "            if weighted + self.bias < 0:\n",
    "                return 0\n",
    "            else:\n",
    "                return 1\n",
    "\n",
    "        #def __str__(self):\n",
    "            #return ('Weight = {}').format(self.weight)"
   ]
  },
  {
   "cell_type": "markdown",
   "metadata": {},
   "source": [
    "# Testing"
   ]
  },
  {
   "cell_type": "markdown",
   "metadata": {},
   "source": [
    "### De inputs\n",
    "Hier worden alle mogelijke combinaties als invoer meegegeven. Voor de NOT gate heb ik een speciale input gemaakt met maar twee inuts."
   ]
  },
  {
   "cell_type": "code",
   "execution_count": 16,
   "metadata": {},
   "outputs": [],
   "source": [
    "_input = ([\n",
    "[0, 0], \n",
    "[0, 1], \n",
    "[1, 0], \n",
    "[1, 1]])\n",
    "\n",
    "not_input = [[0],[1]]"
   ]
  },
  {
   "cell_type": "code",
   "execution_count": 17,
   "metadata": {},
   "outputs": [
    {
     "data": {
      "text/plain": [
       "<__main__.Perceptron at 0x26472e22a00>"
      ]
     },
     "execution_count": 17,
     "metadata": {},
     "output_type": "execute_result"
    }
   ],
   "source": [
    "Perceptron(0, [-0.5, 1])"
   ]
  },
  {
   "cell_type": "code",
   "execution_count": null,
   "metadata": {},
   "outputs": [],
   "source": []
  }
 ],
 "metadata": {
  "kernelspec": {
   "display_name": "Python 3",
   "language": "python",
   "name": "python3"
  },
  "language_info": {
   "codemirror_mode": {
    "name": "ipython",
    "version": 3
   },
   "file_extension": ".py",
   "mimetype": "text/x-python",
   "name": "python",
   "nbconvert_exporter": "python",
   "pygments_lexer": "ipython3",
   "version": "3.8.0"
  }
 },
 "nbformat": 4,
 "nbformat_minor": 4
}
