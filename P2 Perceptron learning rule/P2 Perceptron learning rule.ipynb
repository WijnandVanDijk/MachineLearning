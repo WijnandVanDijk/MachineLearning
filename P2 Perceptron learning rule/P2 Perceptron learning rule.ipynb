{
 "cells": [
  {
   "cell_type": "code",
   "execution_count": null,
   "metadata": {},
   "outputs": [],
   "source": [
    "class Perceptron:\n",
    "\n",
    "    def __init__(self, bias, weight):\n",
    "        self.weight = weight\n",
    "        self.bias = bias\n",
    "        \n",
    "        self.error = 0\n",
    "        self.mse = 0\n",
    "        self.teller = 0\n",
    "        \n",
    "    def activate(self, som):\n",
    "            if som + self.bias < 0:\n",
    "                return 0\n",
    "            else:\n",
    "                return 1\n",
    "\n",
    "    def weight_calculation(self, _input):\n",
    "            som = 0\n",
    "            for i in range(len(_input)):\n",
    "                som += _input[i] * self.weight[i]\n",
    "            return self.activate(som)\n",
    "\n",
    "    def __str__(self):\n",
    "        return ('Bias: {}' + ' Weight: {}').format(self.bias, self.weight)\n",
    "    \n",
    "    def update():\n",
    "        #output y = f(w ∙ x) \n",
    "        y = self.weight_calculation(_input)\n",
    "        \n",
    "        # e = d – y\n",
    "        error = target - y\n",
    "        self.error += e\n",
    "    \n",
    "    def error():\n",
    "        self.mse += (self.error**2) / self.teller"
   ]
  }
 ],
 "metadata": {
  "kernelspec": {
   "display_name": "Python 3",
   "language": "python",
   "name": "python3"
  },
  "language_info": {
   "codemirror_mode": {
    "name": "ipython",
    "version": 3
   },
   "file_extension": ".py",
   "mimetype": "text/x-python",
   "name": "python",
   "nbconvert_exporter": "python",
   "pygments_lexer": "ipython3",
   "version": "3.8.0"
  }
 },
 "nbformat": 4,
 "nbformat_minor": 4
}
