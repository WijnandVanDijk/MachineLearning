{
 "cells": [
  {
   "cell_type": "code",
   "execution_count": 1,
   "metadata": {},
   "outputs": [],
   "source": [
    "class neuron:\n",
    "    \n",
    "    def __init__(self, bias, weight):\n",
    "        self.weight = weight\n",
    "        self.bias = bias\n",
    "        \n",
    "    def activate(self, som):\n",
    "        x = 1/(1+2.71828**(-som))\n",
    "        return x\n",
    "    \n",
    "    def get_output(self, _input):\n",
    "        som = 0\n",
    "        for i in range(len(_input)):\n",
    "            som += _input[i] * self.weight[i]\n",
    "        output = self.activate(som)\n",
    "        return output\n",
    "        \n",
    "    def __str__(self):\n",
    "        return ('Bias: {}' + ' Weight: {}').format(self.bias, self.weight)"
   ]
  },
  {
   "cell_type": "markdown",
   "metadata": {},
   "source": [
    "### Gates test \n",
    "hier worden de gates getest met de bias en weights van de perceptron, dit werkt niet omdat bij de sigmoid functie de output tussen de 0 en 1 is, niet een 1 of een 0.\n",
    "Verwachte output:\n",
    "\n",
    "INVERT: 1\n",
    "        0\n",
    "        \n",
    "AND:    0\n",
    "        0\n",
    "        0\n",
    "        1\n",
    "        \n",
    "OR:     0\n",
    "        1\n",
    "        1\n",
    "        1\n",
    "        \n",
    "NOR:    1\n",
    "        0\n",
    "        0\n",
    "        0\n",
    "        0\n",
    "        0\n",
    "        0\n",
    "        0\n",
    "\n",
    "omdat we getallen tussen de 0 en 1 krijgen, ronden we de getallen af. dus alles onder de 0.5 wordt een 0."
   ]
  },
  {
   "cell_type": "code",
   "execution_count": 2,
   "metadata": {},
   "outputs": [
    {
     "name": "stdout",
     "output_type": "stream",
     "text": [
      "Bias: 0 Weight: [-1]\n",
      "0.5\n",
      "0.26894155362156696\n"
     ]
    }
   ],
   "source": [
    "INVERT = neuron(0, [-1])\n",
    "print(INVERT)\n",
    "print(INVERT.get_output([0]))\n",
    "print(INVERT.get_output([1]))"
   ]
  },
  {
   "cell_type": "code",
   "execution_count": 3,
   "metadata": {},
   "outputs": [
    {
     "name": "stdout",
     "output_type": "stream",
     "text": [
      "Bias: -2 Weight: [1, 1]\n",
      "0.5\n",
      "0.731058446378433\n",
      "0.731058446378433\n",
      "0.880796936729369\n"
     ]
    }
   ],
   "source": [
    "AND = neuron(-2, [1, 1])\n",
    "print(AND)\n",
    "print(AND.get_output([0, 0]))\n",
    "print(AND.get_output([0, 1]))\n",
    "print(AND.get_output([1, 0]))\n",
    "print(AND.get_output([1, 1]))"
   ]
  },
  {
   "cell_type": "code",
   "execution_count": 4,
   "metadata": {},
   "outputs": [
    {
     "name": "stdout",
     "output_type": "stream",
     "text": [
      "Bias: -1 Weight: [2, 2]\n",
      "0.5\n",
      "0.880796936729369\n",
      "0.880796936729369\n",
      "0.9820137425143775\n"
     ]
    }
   ],
   "source": [
    "OR = neuron(-1, [2, 2])\n",
    "print(OR)\n",
    "print(OR.get_output([0, 0]))\n",
    "print(OR.get_output([0, 1]))\n",
    "print(OR.get_output([1, 0]))\n",
    "print(OR.get_output([1, 1]))"
   ]
  },
  {
   "cell_type": "code",
   "execution_count": 5,
   "metadata": {},
   "outputs": [
    {
     "name": "stdout",
     "output_type": "stream",
     "text": [
      "Bias: 0 Weight: [-1, -1, -1]\n",
      "0.5\n",
      "0.26894155362156696\n",
      "0.26894155362156696\n",
      "0.26894155362156696\n",
      "0.11920306327063111\n",
      "0.11920306327063111\n",
      "0.11920306327063111\n",
      "0.04742596434225891\n"
     ]
    }
   ],
   "source": [
    "NOR = neuron(0, [-1, -1, -1])\n",
    "print(NOR)\n",
    "print(NOR.get_output([0,0,0]))\n",
    "print(NOR.get_output([0,0,1]))\n",
    "print(NOR.get_output([0,1,0]))\n",
    "print(NOR.get_output([1,0,0]))\n",
    "print(NOR.get_output([0,1,1]))\n",
    "print(NOR.get_output([1,0,1]))\n",
    "print(NOR.get_output([1,1,0]))\n",
    "print(NOR.get_output([1,1,1]))"
   ]
  },
  {
   "cell_type": "markdown",
   "metadata": {},
   "source": [
    "### Aangepaste gates\n",
    "Hier pas ik de bias en weights aan zodat de uitkomst in de buurt komt van de verwachte uitkomst. Ik heb vele combinaties geprobeerd op alle gates, maar deze waren allemaal niet in de buurt van de verwachte uitkomst. Hier onder de 'beste' uitkomsten"
   ]
  },
  {
   "cell_type": "code",
   "execution_count": 6,
   "metadata": {},
   "outputs": [
    {
     "name": "stdout",
     "output_type": "stream",
     "text": [
      "Bias: 10 Weight: [-15]\n",
      "0.5\n",
      "3.059053134297173e-07\n"
     ]
    }
   ],
   "source": [
    "INVERT = neuron(10, [-15])\n",
    "print(INVERT)\n",
    "print(INVERT.get_output([0]))\n",
    "print(INVERT.get_output([1]))"
   ]
  },
  {
   "cell_type": "code",
   "execution_count": 7,
   "metadata": {},
   "outputs": [
    {
     "name": "stdout",
     "output_type": "stream",
     "text": [
      "Bias: -15 Weight: [10, 10]\n",
      "0.5\n",
      "0.9999546018259404\n",
      "0.9999546018259404\n",
      "0.9999999979388186\n"
     ]
    }
   ],
   "source": [
    "AND = neuron(-15, [10, 10])\n",
    "print(AND)\n",
    "print(AND.get_output([0, 0]))\n",
    "print(AND.get_output([0, 1]))\n",
    "print(AND.get_output([1, 0]))\n",
    "print(AND.get_output([1, 1]))"
   ]
  },
  {
   "cell_type": "code",
   "execution_count": 8,
   "metadata": {},
   "outputs": [
    {
     "name": "stdout",
     "output_type": "stream",
     "text": [
      "Bias: -10 Weight: [20, 20]\n",
      "0.5\n",
      "0.9999999979388186\n",
      "0.9999999979388186\n",
      "1.0\n"
     ]
    }
   ],
   "source": [
    "OR = neuron(-10, [20, 20])\n",
    "print(OR)\n",
    "print(OR.get_output([0, 0]))\n",
    "print(OR.get_output([0, 1]))\n",
    "print(OR.get_output([1, 0]))\n",
    "print(OR.get_output([1, 1]))"
   ]
  },
  {
   "cell_type": "code",
   "execution_count": 9,
   "metadata": {},
   "outputs": [
    {
     "name": "stdout",
     "output_type": "stream",
     "text": [
      "Bias: 10 Weight: [-20, -20, -20]\n",
      "0.5\n",
      "2.061181347188335e-09\n",
      "2.061181347188335e-09\n",
      "2.061181347188335e-09\n",
      "4.248468563510849e-18\n",
      "4.248468563510849e-18\n",
      "4.248468563510849e-18\n",
      "8.756864175274067e-27\n"
     ]
    }
   ],
   "source": [
    "NOR = neuron(10, [-20, -20, -20])\n",
    "print(NOR)\n",
    "print(NOR.get_output([0,0,0]))\n",
    "print(NOR.get_output([0,0,1]))\n",
    "print(NOR.get_output([0,1,0]))\n",
    "print(NOR.get_output([1,0,0]))\n",
    "print(NOR.get_output([0,1,1]))\n",
    "print(NOR.get_output([1,0,1]))\n",
    "print(NOR.get_output([1,1,0]))\n",
    "print(NOR.get_output([1,1,1]))"
   ]
  },
  {
   "cell_type": "markdown",
   "metadata": {},
   "source": [
    "## NeuronLayer"
   ]
  },
  {
   "cell_type": "code",
   "execution_count": 10,
   "metadata": {},
   "outputs": [],
   "source": [
    "class NeuronLayer:\n",
    "    \n",
    "    def __init__(self):\n",
    "        self.neurons = []\n",
    "        \n",
    "    def setter(self, gates):\n",
    "        self.neurons.append(gates)\n",
    "        \n",
    "    def getter(self):\n",
    "        return self.neurons\n",
    "    \n",
    "    def output_layer(self, _input):\n",
    "        next_input = []\n",
    "        for neuron in self.neurons:\n",
    "            next_input.append(neuron.get_output(_input))\n",
    "        return next_input\n",
    "    \n",
    "    def __str__(self):\n",
    "        return ('Aantal neurons in laag: {}'.format(len(self.neurons)))"
   ]
  },
  {
   "cell_type": "markdown",
   "metadata": {},
   "source": [
    "## NeuronNetwork"
   ]
  },
  {
   "cell_type": "code",
   "execution_count": 11,
   "metadata": {},
   "outputs": [],
   "source": [
    "class NeuronNetwork:\n",
    "    \n",
    "    def __init__(self):\n",
    "        self.layers = []\n",
    "        \n",
    "    def setter_layers(self, aantal_layers):\n",
    "        self.layers.append(aantal_layers)\n",
    "        \n",
    "    def feed_forward(self, _input):\n",
    "        #outputs_netwerk = []\n",
    "        for layer in self.layers:\n",
    "            next_input = layer.output_layer(_input)\n",
    "            _input = next_input \n",
    "        return _input"
   ]
  },
  {
   "cell_type": "markdown",
   "metadata": {},
   "source": [
    "### half adder\n",
    "De output die we verwachten is:\n",
    "\n",
    "0 0\n",
    "\n",
    "1 0\n",
    "\n",
    "1 0\n",
    "\n",
    "0 1"
   ]
  },
  {
   "cell_type": "code",
   "execution_count": 12,
   "metadata": {},
   "outputs": [
    {
     "name": "stdout",
     "output_type": "stream",
     "text": [
      "Bias: 2 Weight: [-1, -2]\n",
      "0.5\n",
      "0.11920306327063111\n",
      "0.26894155362156696\n",
      "0.04742596434225891\n"
     ]
    }
   ],
   "source": [
    "# Om een half adder te maken heb je een nand gate nodig, die wordt hier gemaakt: de verwachte output voor een nand is: 1,1,1,0\n",
    "NAND = neuron(2, [-1, -2])\n",
    "print(NAND)\n",
    "print(NAND.get_output([0, 0]))\n",
    "print(NAND.get_output([0, 1]))\n",
    "print(NAND.get_output([1, 0]))\n",
    "print(NAND.get_output([1, 1]))"
   ]
  },
  {
   "cell_type": "code",
   "execution_count": 13,
   "metadata": {},
   "outputs": [
    {
     "name": "stdout",
     "output_type": "stream",
     "text": [
      "Aantal neurons in laag: 3\n"
     ]
    }
   ],
   "source": [
    "layer1 = NeuronLayer()\n",
    "layer1.setter(OR)\n",
    "layer1.setter(AND)\n",
    "layer1.setter(NAND)\n",
    "print(layer1)"
   ]
  },
  {
   "cell_type": "code",
   "execution_count": 14,
   "metadata": {},
   "outputs": [
    {
     "name": "stdout",
     "output_type": "stream",
     "text": [
      "Aantal neurons in laag: 2\n"
     ]
    }
   ],
   "source": [
    "p1 = neuron(-20, [10, 10, 0])\n",
    "p2 = neuron(-10, [2, 6, 10])\n",
    "layer2 = NeuronLayer()\n",
    "layer2.setter(p1)\n",
    "layer2.setter(p2)\n",
    "print(layer2)"
   ]
  },
  {
   "cell_type": "code",
   "execution_count": 15,
   "metadata": {},
   "outputs": [],
   "source": [
    "Netwerk = NeuronNetwork()\n",
    "Netwerk.setter_layers(layer1)\n",
    "Netwerk.setter_layers(layer2)"
   ]
  },
  {
   "cell_type": "code",
   "execution_count": 16,
   "metadata": {},
   "outputs": [
    {
     "name": "stdout",
     "output_type": "stream",
     "text": [
      "[0.9999546018259404, 0.9998766046770884]\n",
      "[0.9999999979378826, 0.9998981341623581]\n",
      "[0.9999999979378826, 0.9999772093169553]\n",
      "[0.9999999979388186, 0.9997912686801382]\n"
     ]
    }
   ],
   "source": [
    "print(Netwerk.feed_forward([0, 0]))\n",
    "print(Netwerk.feed_forward([0, 1]))\n",
    "print(Netwerk.feed_forward([1, 0]))\n",
    "print(Netwerk.feed_forward([1, 1]))\n",
    "# Veel mogelijkheden geprobeerd maar het is me niet gelukt de goede output te krijgen"
   ]
  }
 ],
 "metadata": {
  "kernelspec": {
   "display_name": "Python 3",
   "language": "python",
   "name": "python3"
  },
  "language_info": {
   "codemirror_mode": {
    "name": "ipython",
    "version": 3
   },
   "file_extension": ".py",
   "mimetype": "text/x-python",
   "name": "python",
   "nbconvert_exporter": "python",
   "pygments_lexer": "ipython3",
   "version": "3.8.0"
  }
 },
 "nbformat": 4,
 "nbformat_minor": 4
}
