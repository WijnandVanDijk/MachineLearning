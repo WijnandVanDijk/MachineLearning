{
 "cells": [
  {
   "cell_type": "code",
   "execution_count": 4,
   "metadata": {},
   "outputs": [],
   "source": [
    "class neuron:\n",
    "    \n",
    "    def __init__(self, bias, weight):\n",
    "        self.weight = weight\n",
    "        self.bias = bias\n",
    "        \n",
    "    def activate(self, som):\n",
    "        # ik wist niet wat de E in de sigmoid formula was maar ben daar achter gekomen door deze post: \n",
    "        #https://stackoverflow.com/questions/36617514/what-does-the-e-equate-to-in-the-sigmoid-function#:~:text=2%20Answers&text=e%3D%201%2F1!,%2B%201%2F2!&text=up%20to%20infinity%20terms%20%3D%20the,e%20approximates%202.71828....\n",
    "        x = 1/(1+2.71828**(som))\n",
    "        return x\n",
    "    \n",
    "    def get_output(self, _input):\n",
    "        som = 0\n",
    "        for i in range(len(_input)):\n",
    "            som += _input[i] + self.weight[i]\n",
    "        return self.activate(som)\n",
    "        \n",
    "    def __str__(self):\n",
    "        return ('Bias: {}' + ' Weight: {}').format(self.bias, self.weight)"
   ]
  },
  {
   "cell_type": "markdown",
   "metadata": {},
   "source": [
    "### Gates test \n",
    "hier worden de gates getest met de bias en weights van de perceptron, dit werkt niet omdat bij de sigmoid functie de output tussen de 0 en 1 is, niet een 1 of een 0."
   ]
  },
  {
   "cell_type": "code",
   "execution_count": 10,
   "metadata": {},
   "outputs": [
    {
     "name": "stdout",
     "output_type": "stream",
     "text": [
      "Bias: 0 Weight: [-1]\n",
      "0.731058446378433\n",
      "0.5\n"
     ]
    }
   ],
   "source": [
    "INVERT = neuron(0, [-1])\n",
    "print(INVERT)\n",
    "print(INVERT.get_output([0]))\n",
    "print(INVERT.get_output([1]))"
   ]
  },
  {
   "cell_type": "code",
   "execution_count": 11,
   "metadata": {},
   "outputs": [
    {
     "name": "stdout",
     "output_type": "stream",
     "text": [
      "Bias: -2 Weight: [1, 1]\n",
      "0.11920306327063111\n",
      "0.04742596434225891\n",
      "0.04742596434225891\n",
      "0.017986257485622558\n"
     ]
    }
   ],
   "source": [
    "AND = neuron(-2, [1, 1])\n",
    "print(AND)\n",
    "print(AND.get_output([0, 0]))\n",
    "print(AND.get_output([0, 1]))\n",
    "print(AND.get_output([1, 0]))\n",
    "print(AND.get_output([1, 1]))"
   ]
  },
  {
   "cell_type": "code",
   "execution_count": 12,
   "metadata": {},
   "outputs": [
    {
     "name": "stdout",
     "output_type": "stream",
     "text": [
      "Bias: -1 Weight: [2, 2]\n",
      "0.017986257485622558\n",
      "0.006692873283488897\n",
      "0.006692873283488897\n",
      "0.0024726331112798357\n"
     ]
    }
   ],
   "source": [
    "OR = neuron(-1, [2, 2])\n",
    "print(OR)\n",
    "print(OR.get_output([0, 0]))\n",
    "print(OR.get_output([0, 1]))\n",
    "print(OR.get_output([1, 0]))\n",
    "print(OR.get_output([1, 1]))"
   ]
  },
  {
   "cell_type": "code",
   "execution_count": 16,
   "metadata": {},
   "outputs": [
    {
     "name": "stdout",
     "output_type": "stream",
     "text": [
      "Bias: 0 Weight: [-1, -1, -1]\n",
      "0.952574035657741\n",
      "0.880796936729369\n",
      "0.880796936729369\n",
      "0.880796936729369\n",
      "0.731058446378433\n",
      "0.731058446378433\n",
      "0.731058446378433\n",
      "0.5\n"
     ]
    }
   ],
   "source": [
    "NOR = neuron(0, [-1, -1, -1])\n",
    "print(NOR)\n",
    "print(NOR.get_output([0,0,0]))\n",
    "print(NOR.get_output([0,0,1]))\n",
    "print(NOR.get_output([0,1,0]))\n",
    "print(NOR.get_output([1,0,0]))\n",
    "print(NOR.get_output([0,1,1]))\n",
    "print(NOR.get_output([1,0,1]))\n",
    "print(NOR.get_output([1,1,0]))\n",
    "print(NOR.get_output([1,1,1]))"
   ]
  },
  {
   "cell_type": "markdown",
   "metadata": {},
   "source": [
    "In de vakantie was ik helemaal vergeten dat ik 3 inlever opdrachten had, daarom heb ik niet genoeg tijd om alle opdrachten af en werkend te krijgen."
   ]
  }
 ],
 "metadata": {
  "kernelspec": {
   "display_name": "Python 3",
   "language": "python",
   "name": "python3"
  },
  "language_info": {
   "codemirror_mode": {
    "name": "ipython",
    "version": 3
   },
   "file_extension": ".py",
   "mimetype": "text/x-python",
   "name": "python",
   "nbconvert_exporter": "python",
   "pygments_lexer": "ipython3",
   "version": "3.8.0"
  }
 },
 "nbformat": 4,
 "nbformat_minor": 4
}
