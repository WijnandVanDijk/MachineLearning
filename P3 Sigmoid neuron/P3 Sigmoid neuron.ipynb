{
 "cells": [
  {
   "cell_type": "code",
   "execution_count": 35,
   "metadata": {},
   "outputs": [],
   "source": [
    "class neuron:\n",
    "    \n",
    "    def __init__(self, bias, weight):\n",
    "        self.weight = weight\n",
    "        self.bias = bias\n",
    "        \n",
    "    def activate(self, som):\n",
    "        # ik wist niet wat de E in de sigmoid formula was maar ben daar achter gekomen door deze post: \n",
    "        #https://stackoverflow.com/questions/36617514/what-does-the-e-equate-to-in-the-sigmoid-function#:~:text=2%20Answers&text=e%3D%201%2F1!,%2B%201%2F2!&text=up%20to%20infinity%20terms%20%3D%20the,e%20approximates%202.71828....\n",
    "        x = 1/(1+2.71828**(-som))\n",
    "        return x\n",
    "    \n",
    "    def get_output(self, _input):\n",
    "        som = 0\n",
    "        for i in range(len(_input)):\n",
    "            som += _input[i] + self.weight[i]\n",
    "            som += self.bias\n",
    "        return self.activate(som)\n",
    "        \n",
    "    def __str__(self):\n",
    "        return ('Bias: {}' + ' Weight: {}').format(self.bias, self.weight)"
   ]
  },
  {
   "cell_type": "markdown",
   "metadata": {},
   "source": [
    "### Gates test \n",
    "hier worden de gates getest met de bias en weights van de perceptron, dit werkt niet omdat bij de sigmoid functie de output tussen de 0 en 1 is, niet een 1 of een 0."
   ]
  },
  {
   "cell_type": "code",
   "execution_count": 147,
   "metadata": {},
   "outputs": [
    {
     "name": "stdout",
     "output_type": "stream",
     "text": [
      "Bias: -2 Weight: [2]\n",
      "0.5\n",
      "0.731058446378433\n"
     ]
    }
   ],
   "source": [
    "INVERT = neuron(0, [-1])\n",
    "print(INVERT)\n",
    "print(INVERT.get_output([0]))\n",
    "print(INVERT.get_output([1]))"
   ]
  },
  {
   "cell_type": "code",
   "execution_count": 37,
   "metadata": {},
   "outputs": [
    {
     "name": "stdout",
     "output_type": "stream",
     "text": [
      "Bias: -2 Weight: [1, 1]\n",
      "0.11920306327063111\n",
      "0.26894155362156696\n",
      "0.26894155362156696\n",
      "0.5\n"
     ]
    }
   ],
   "source": [
    "AND = neuron(-2, [1, 1])\n",
    "print(AND)\n",
    "print(AND.get_output([0, 0]))\n",
    "print(AND.get_output([0, 1]))\n",
    "print(AND.get_output([1, 0]))\n",
    "print(AND.get_output([1, 1]))"
   ]
  },
  {
   "cell_type": "code",
   "execution_count": 143,
   "metadata": {},
   "outputs": [
    {
     "name": "stdout",
     "output_type": "stream",
     "text": [
      "Bias: -1 Weight: [0, 2]\n",
      "0.5\n",
      "0.731058446378433\n",
      "0.731058446378433\n",
      "0.880796936729369\n"
     ]
    }
   ],
   "source": [
    "OR = neuron(-1, [2, 2])\n",
    "print(OR)\n",
    "print(OR.get_output([0, 0]))\n",
    "print(OR.get_output([0, 1]))\n",
    "print(OR.get_output([1, 0]))\n",
    "print(OR.get_output([1, 1]))"
   ]
  },
  {
   "cell_type": "code",
   "execution_count": 154,
   "metadata": {},
   "outputs": [
    {
     "name": "stdout",
     "output_type": "stream",
     "text": [
      "Bias: 0 Weight: [-1, -1, -1]\n",
      "0.04742596434225891\n",
      "0.11920306327063111\n",
      "0.11920306327063111\n",
      "0.11920306327063111\n",
      "0.26894155362156696\n",
      "0.26894155362156696\n",
      "0.26894155362156696\n",
      "0.5\n"
     ]
    }
   ],
   "source": [
    "NOR = neuron(0, [-1, -1, -1])\n",
    "print(NOR)\n",
    "print(NOR.get_output([0,0,0]))\n",
    "print(NOR.get_output([0,0,1]))\n",
    "print(NOR.get_output([0,1,0]))\n",
    "print(NOR.get_output([1,0,0]))\n",
    "print(NOR.get_output([0,1,1]))\n",
    "print(NOR.get_output([1,0,1]))\n",
    "print(NOR.get_output([1,1,0]))\n",
    "print(NOR.get_output([1,1,1]))"
   ]
  },
  {
   "cell_type": "markdown",
   "metadata": {},
   "source": [
    "### Aangepaste gates\n",
    "Hier pas ik de bias en weights aan zodat de uitkomst in de buurt komt van de verwachte uitkomst. Ik heb vele combinaties geprobeerd op alle gates, maar deze waren allemaal niet in de buurt van de verwachte uitkomst. Hier onder de 'beste' uitkomsten"
   ]
  },
  {
   "cell_type": "code",
   "execution_count": 148,
   "metadata": {},
   "outputs": [
    {
     "name": "stdout",
     "output_type": "stream",
     "text": [
      "Bias: -2 Weight: [2]\n",
      "0.5\n",
      "0.731058446378433\n"
     ]
    }
   ],
   "source": [
    "INVERT = neuron(-2, [2])\n",
    "print(INVERT)\n",
    "print(INVERT.get_output([0]))\n",
    "print(INVERT.get_output([1]))"
   ]
  },
  {
   "cell_type": "code",
   "execution_count": 149,
   "metadata": {},
   "outputs": [
    {
     "name": "stdout",
     "output_type": "stream",
     "text": [
      "Bias: -2 Weight: [1, 1]\n",
      "0.11920306327063111\n",
      "0.26894155362156696\n",
      "0.26894155362156696\n",
      "0.5\n"
     ]
    }
   ],
   "source": [
    "AND = neuron(-2, [1, 1])\n",
    "print(AND)\n",
    "print(AND.get_output([0, 0]))\n",
    "print(AND.get_output([0, 1]))\n",
    "print(AND.get_output([1, 0]))\n",
    "print(AND.get_output([1, 1]))"
   ]
  },
  {
   "cell_type": "code",
   "execution_count": 150,
   "metadata": {},
   "outputs": [
    {
     "name": "stdout",
     "output_type": "stream",
     "text": [
      "Bias: -1 Weight: [0, 2]\n",
      "0.5\n",
      "0.731058446378433\n",
      "0.731058446378433\n",
      "0.880796936729369\n"
     ]
    }
   ],
   "source": [
    "OR = neuron(-1, [0, 2])\n",
    "print(OR)\n",
    "print(OR.get_output([0, 0]))\n",
    "print(OR.get_output([0, 1]))\n",
    "print(OR.get_output([1, 0]))\n",
    "print(OR.get_output([1, 1]))"
   ]
  },
  {
   "cell_type": "code",
   "execution_count": 157,
   "metadata": {},
   "outputs": [
    {
     "name": "stdout",
     "output_type": "stream",
     "text": [
      "Bias: 0.2 Weight: [-1, -5, 3]\n",
      "0.08317281959752294\n",
      "0.19781626087721949\n",
      "0.19781626087721949\n",
      "0.19781626087721949\n",
      "0.4013124045323672\n",
      "0.4013124045323672\n",
      "0.4013124045323672\n",
      "0.6456562138903854\n"
     ]
    }
   ],
   "source": [
    "NOR = neuron(0.2, [-1, -5, 3])\n",
    "print(NOR)\n",
    "print(NOR.get_output([0,0,0]))\n",
    "print(NOR.get_output([0,0,1]))\n",
    "print(NOR.get_output([0,1,0]))\n",
    "print(NOR.get_output([1,0,0]))\n",
    "print(NOR.get_output([0,1,1]))\n",
    "print(NOR.get_output([1,0,1]))\n",
    "print(NOR.get_output([1,1,0]))\n",
    "print(NOR.get_output([1,1,1]))"
   ]
  },
  {
   "cell_type": "markdown",
   "metadata": {},
   "source": [
    "## NeuronLayer"
   ]
  },
  {
   "cell_type": "code",
   "execution_count": 102,
   "metadata": {},
   "outputs": [],
   "source": [
    "class NeuronLayer:\n",
    "    \n",
    "    def __init__(self):\n",
    "        self.neurons = []\n",
    "        \n",
    "    def setter(self, gates):\n",
    "        self.neurons.append(gates)\n",
    "        \n",
    "    def getter(self):\n",
    "        return self.neurons\n",
    "    \n",
    "    def output_layer(self):\n",
    "        outputs = []\n",
    "        for neuron in neurons:\n",
    "            outputs.append(neuron.weight_calculation(_input))\n",
    "        return outputs\n",
    "    \n",
    "    def __str__(self):\n",
    "        return ('Aantal neurons in laag: {}'.format(len(self.neurons)))"
   ]
  },
  {
   "cell_type": "markdown",
   "metadata": {},
   "source": [
    "## NeuronNetwork"
   ]
  },
  {
   "cell_type": "code",
   "execution_count": 124,
   "metadata": {},
   "outputs": [],
   "source": [
    "class NeuronNetwork:\n",
    "    \n",
    "    def __init__(self, layers):\n",
    "        self.layers = []\n",
    "        \n",
    "    def setter_layers(self, aantal_layers):\n",
    "        self.layers.append(aantal_layers)\n",
    "        \n",
    "    def feed_forward(self, _input):\n",
    "        outputs_netwerk = []\n",
    "        for layer in self.layers:\n",
    "            _input = NeuronLayer.output_layer(_input)\n",
    "            outputs_netwerk.append(_input)\n",
    "        return outputs_netwerk"
   ]
  },
  {
   "cell_type": "code",
   "execution_count": 125,
   "metadata": {},
   "outputs": [
    {
     "name": "stdout",
     "output_type": "stream",
     "text": [
      "Bias: -1 Weight: [2, 2]\n",
      "0.880796936729369\n",
      "0.952574035657741\n",
      "0.952574035657741\n",
      "0.9820137425143775\n"
     ]
    }
   ],
   "source": [
    "NAND = neuron(-1, [2, 2])\n",
    "print(NAND)\n",
    "print(NAND.get_output([0, 0]))\n",
    "print(NAND.get_output([0, 1]))\n",
    "print(NAND.get_output([1, 0]))\n",
    "print(NAND.get_output([1, 1]))"
   ]
  },
  {
   "cell_type": "code",
   "execution_count": 134,
   "metadata": {},
   "outputs": [
    {
     "name": "stdout",
     "output_type": "stream",
     "text": [
      "Aantal neurons in laag: 2\n"
     ]
    }
   ],
   "source": [
    "layer1 = NeuronLayer()\n",
    "layer1.setter(OR)\n",
    "layer1.setter(AND)\n",
    "print(layer1)"
   ]
  },
  {
   "cell_type": "code",
   "execution_count": 127,
   "metadata": {},
   "outputs": [
    {
     "name": "stdout",
     "output_type": "stream",
     "text": [
      "Aantal neurons in laag: 2\n"
     ]
    }
   ],
   "source": [
    "layer2 = NeuronLayer()\n",
    "layer2.setter(OR)\n",
    "layer2.setter(AND)\n",
    "print(layer2)"
   ]
  },
  {
   "cell_type": "code",
   "execution_count": 133,
   "metadata": {},
   "outputs": [
    {
     "name": "stdout",
     "output_type": "stream",
     "text": [
      "[]\n"
     ]
    }
   ],
   "source": [
    "netwerk = NeuronNetwork([layer1, layer2])\n",
    "print(netwerk.feed_forward([[layer1, layer2]]))"
   ]
  }
 ],
 "metadata": {
  "kernelspec": {
   "display_name": "Python 3",
   "language": "python",
   "name": "python3"
  },
  "language_info": {
   "codemirror_mode": {
    "name": "ipython",
    "version": 3
   },
   "file_extension": ".py",
   "mimetype": "text/x-python",
   "name": "python",
   "nbconvert_exporter": "python",
   "pygments_lexer": "ipython3",
   "version": "3.8.0"
  }
 },
 "nbformat": 4,
 "nbformat_minor": 4
}
